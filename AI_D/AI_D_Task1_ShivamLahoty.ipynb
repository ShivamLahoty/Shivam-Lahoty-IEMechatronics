{
 "cells": [
  {
   "cell_type": "code",
   "execution_count": 2,
   "id": "1c493805-eaca-4b75-9acf-29d5a4bc4f64",
   "metadata": {},
   "outputs": [
    {
     "name": "stdout",
     "output_type": "stream",
     "text": [
      "x = (0, 0, 10) , y = (0, 1, 9) , z = (0, 2, 8)\n",
      "x = (0, 0, 10) , y = (0, 1, 9) , z = (0, 2, 8)\n",
      "x = (0, 0, 10) , y = (0, 1, 9) , z = (0, 2, 8)\n",
      "x = (0, 0, 10) , y = (0, 1, 9) , z = (0, 2, 8)\n",
      "x = (0, 0, 10) , y = (0, 1, 9) , z = (0, 2, 8)\n",
      "x = (0, 0, 10) , y = (0, 1, 9) , z = (0, 2, 8)\n",
      "x = (0, 0, 10) , y = (0, 1, 9) , z = (0, 2, 8)\n",
      "x = (0, 0, 10) , y = (0, 1, 9) , z = (0, 2, 8)\n",
      "x = (0, 0, 10) , y = (0, 1, 9) , z = (0, 2, 8)\n",
      "x = (0, 0, 10) , y = (0, 1, 9) , z = (0, 2, 8)\n",
      "x = (0, 0, 10) , y = (0, 1, 9) , z = (0, 2, 8)\n",
      "x = (0, 0, 10) , y = (0, 1, 9) , z = (0, 2, 8)\n",
      "x = (0, 0, 10) , y = (0, 1, 9) , z = (0, 2, 8)\n",
      "x = (0, 0, 10) , y = (0, 1, 9) , z = (0, 2, 8)\n",
      "x = (0, 0, 10) , y = (0, 1, 9) , z = (0, 2, 8)\n",
      "x = (0, 0, 10) , y = (0, 1, 9) , z = (0, 2, 8)\n",
      "x = (0, 0, 10) , y = (0, 1, 9) , z = (0, 2, 8)\n",
      "x = (0, 0, 10) , y = (0, 1, 9) , z = (0, 2, 8)\n",
      "x = (0, 0, 10) , y = (0, 1, 9) , z = (0, 2, 8)\n",
      "x = (0, 0, 10) , y = (0, 1, 9) , z = (0, 2, 8)\n",
      "x = (0, 0, 10) , y = (0, 1, 9) , z = (0, 2, 8)\n",
      "x = (0, 0, 10) , y = (0, 1, 9) , z = (0, 2, 8)\n",
      "x = (0, 0, 10) , y = (0, 1, 9) , z = (0, 2, 8)\n",
      "x = (0, 0, 10) , y = (0, 1, 9) , z = (0, 2, 8)\n",
      "x = (0, 0, 10) , y = (0, 1, 9) , z = (0, 2, 8)\n",
      "x = (0, 0, 10) , y = (0, 1, 9) , z = (0, 2, 8)\n",
      "x = (0, 0, 10) , y = (0, 1, 9) , z = (0, 2, 8)\n",
      "x = (0, 0, 10) , y = (0, 1, 9) , z = (0, 2, 8)\n",
      "x = (0, 0, 10) , y = (0, 1, 9) , z = (0, 2, 8)\n",
      "x = (0, 0, 10) , y = (0, 1, 9) , z = (0, 2, 8)\n",
      "x = (0, 0, 10) , y = (0, 1, 9) , z = (0, 2, 8)\n",
      "x = (0, 0, 10) , y = (0, 1, 9) , z = (0, 2, 8)\n",
      "x = (0, 0, 10) , y = (0, 1, 9) , z = (0, 2, 8)\n",
      "x = (0, 0, 10) , y = (0, 1, 9) , z = (0, 2, 8)\n",
      "x = (0, 0, 10) , y = (0, 1, 9) , z = (0, 2, 8)\n",
      "x = (0, 0, 10) , y = (0, 1, 9) , z = (0, 2, 8)\n",
      "x = (0, 0, 10) , y = (0, 1, 9) , z = (0, 2, 8)\n",
      "x = (0, 0, 10) , y = (0, 1, 9) , z = (0, 2, 8)\n",
      "x = (0, 0, 10) , y = (0, 1, 9) , z = (0, 2, 8)\n",
      "x = (0, 0, 10) , y = (0, 1, 9) , z = (0, 2, 8)\n",
      "x = (0, 0, 10) , y = (0, 1, 9) , z = (0, 2, 8)\n",
      "x = (0, 0, 10) , y = (0, 1, 9) , z = (0, 2, 8)\n",
      "x = (0, 0, 10) , y = (0, 1, 9) , z = (0, 2, 8)\n",
      "x = (0, 0, 10) , y = (0, 1, 9) , z = (0, 2, 8)\n",
      "x = (0, 0, 10) , y = (0, 1, 9) , z = (0, 2, 8)\n",
      "x = (0, 0, 10) , y = (0, 1, 9) , z = (0, 2, 8)\n",
      "x = (0, 0, 10) , y = (0, 1, 9) , z = (0, 2, 8)\n",
      "x = (0, 0, 10) , y = (0, 1, 9) , z = (0, 2, 8)\n",
      "x = (0, 0, 10) , y = (0, 1, 9) , z = (0, 2, 8)\n",
      "x = (0, 0, 10) , y = (0, 1, 9) , z = (0, 2, 8)\n",
      "x = (0, 0, 10) , y = (0, 1, 9) , z = (0, 2, 8)\n",
      "x = (0, 0, 10) , y = (0, 1, 9) , z = (0, 2, 8)\n",
      "x = (0, 0, 10) , y = (0, 1, 9) , z = (0, 2, 8)\n",
      "x = (0, 0, 10) , y = (0, 1, 9) , z = (0, 2, 8)\n",
      "x = (0, 0, 10) , y = (0, 1, 9) , z = (0, 2, 8)\n",
      "x = (0, 0, 10) , y = (0, 1, 9) , z = (0, 2, 8)\n",
      "x = (0, 0, 10) , y = (0, 1, 9) , z = (0, 2, 8)\n",
      "x = (0, 0, 10) , y = (0, 1, 9) , z = (0, 2, 8)\n",
      "x = (0, 0, 10) , y = (0, 1, 9) , z = (0, 2, 8)\n",
      "x = (0, 0, 10) , y = (0, 1, 9) , z = (0, 2, 8)\n",
      "x = (0, 0, 10) , y = (0, 1, 9) , z = (0, 2, 8)\n",
      "x = (0, 0, 10) , y = (0, 1, 9) , z = (0, 2, 8)\n",
      "x = (0, 0, 10) , y = (0, 1, 9) , z = (0, 2, 8)\n",
      "x = (0, 0, 10) , y = (0, 1, 9) , z = (0, 2, 8)\n",
      "x = (0, 0, 10) , y = (0, 1, 9) , z = (0, 2, 8)\n",
      "x = (0, 0, 10) , y = (0, 1, 9) , z = (0, 2, 8)\n"
     ]
    }
   ],
   "source": [
    "s = []\n",
    "for x in range(11):\n",
    "    for y in range(11):\n",
    "        for z in range(11):\n",
    "            if x + y + z == 10:\n",
    "                s.append((x, y, z))\n",
    "\n",
    "for i in s:\n",
    "    print(\"x =\", s[0], \", y =\", s[1], \", z =\", s[2])"
   ]
  },
  {
   "cell_type": "code",
   "execution_count": 5,
   "id": "89c36c15-f3a3-407a-8bf5-219e2805848c",
   "metadata": {},
   "outputs": [
    {
     "name": "stdout",
     "output_type": "stream",
     "text": [
      "0 . SHIVAMlaho\n",
      "1 . SHIVAMdu\n",
      "2 . MSdho\n",
      "3 . ROHITshar\n",
      "4 . VIRATkoh\n"
     ]
    }
   ],
   "source": [
    "L = eval(input(\"Enter a list\"))\n",
    "L2 = []\n",
    "for i in L:\n",
    "    L1 = i.partition(\" \")\n",
    "    comp = L1[0].upper() + L1[2][:-2:].lower().replace(\" \",\"\")\n",
    "    L2.append(comp)\n",
    "for i in range (0, len(L2)):\n",
    "    print (i , \".\", L2[i])"
   ]
  },
  {
   "cell_type": "code",
   "execution_count": 6,
   "id": "6840fffb-c423-4432-bacf-f4dd56ce3989",
   "metadata": {},
   "outputs": [
    {
     "name": "stdout",
     "output_type": "stream",
     "text": [
      "10.0 * 4.0 = 40.0\n"
     ]
    }
   ],
   "source": [
    "def addition(x, y):\n",
    "    return x + y\n",
    "\n",
    "def subtraction(x, y):\n",
    "    return x - y\n",
    "\n",
    "def multiplication(x, y):\n",
    "    return x * y\n",
    "\n",
    "def division(x, y):\n",
    "    if y != 0:\n",
    "        return x / y\n",
    "    else:\n",
    "        return \"Division by zero is not allowed!\"\n",
    "\n",
    "def modulus(x, y):\n",
    "    return x % y\n",
    "\n",
    "def exponent(x, y):\n",
    "    return x ** y\n",
    "\n",
    "num1 = float(input(\"Enter first number: \"))\n",
    "num2 = float(input(\"Enter second number: \"))\n",
    "operation = input(\"Enter operation (+, -, *, /, %, **): \")\n",
    "\n",
    "result = 0\n",
    "\n",
    "if operation == '+':\n",
    "    result = addition(num1, num2)\n",
    "elif operation == '-':\n",
    "    result = subtraction(num1, num2)\n",
    "elif operation == '*':\n",
    "    result = multiplication(num1, num2)\n",
    "elif operation == '/':\n",
    "    result = division(num1, num2)\n",
    "elif operation == '%':\n",
    "    result = modulus(num1, num2)\n",
    "elif operation == '**':\n",
    "    result = exponent(num1, num2)\n",
    "else:\n",
    "    print(\"Please enter a correct operation\")\n",
    "print (num1 , operation, num2 , \"=\", result)"
   ]
  },
  {
   "cell_type": "code",
   "execution_count": 7,
   "id": "ac046232-5703-4f1b-9c21-e3a3feef8cd3",
   "metadata": {},
   "outputs": [
    {
     "name": "stdout",
     "output_type": "stream",
     "text": [
      "2,3,5,7"
     ]
    }
   ],
   "source": [
    "n = int (input (\"Enter Lower Limit \"))\n",
    "m = int (input (\"Enter Upper Limit \"))\n",
    "L = []\n",
    "for i in range (n, m + 1):\n",
    "    flag = 0\n",
    "    for j in range (2,i):\n",
    "        if i%j == 0 :\n",
    "            flag += 1\n",
    "    if flag == 0 and i!=1 and i!=0:\n",
    "        L.append(i)\n",
    "        L.append(\",\")\n",
    "for i in L[:-1:]:\n",
    "    print (i, end = \"\")"
   ]
  },
  {
   "cell_type": "code",
   "execution_count": 9,
   "id": "7cd9c613-ca30-41c3-86ee-8098a7209259",
   "metadata": {},
   "outputs": [
    {
     "name": "stdout",
     "output_type": "stream",
     "text": [
      "{'Ram': 10, 'Rohit': 20, 'Shivam': 30, 'Virat': 40, 'Mahendra': 50}\n"
     ]
    }
   ],
   "source": [
    "name = []\n",
    "num = []\n",
    "L = []\n",
    "def ValueEnter(Arr):\n",
    "    for i in range (5):\n",
    "        X = input(\"Enter a Value\")\n",
    "        Arr.append(X)\n",
    "ValueEnter(name)\n",
    "ValueEnter(num)\n",
    "for i in range(5):\n",
    "    L.append([num[i],name[i]])\n",
    "L.sort()\n",
    "dic = {}\n",
    "for i,j in L:\n",
    "    dic[j] = int(i)\n",
    "print (dic)"
   ]
  },
  {
   "cell_type": "code",
   "execution_count": null,
   "id": "b7faf4fe-225d-4c8a-8f40-b41ac9a9073a",
   "metadata": {},
   "outputs": [],
   "source": []
  }
 ],
 "metadata": {
  "kernelspec": {
   "display_name": "Python 3 (ipykernel)",
   "language": "python",
   "name": "python3"
  },
  "language_info": {
   "codemirror_mode": {
    "name": "ipython",
    "version": 3
   },
   "file_extension": ".py",
   "mimetype": "text/x-python",
   "name": "python",
   "nbconvert_exporter": "python",
   "pygments_lexer": "ipython3",
   "version": "3.10.2"
  }
 },
 "nbformat": 4,
 "nbformat_minor": 5
}
